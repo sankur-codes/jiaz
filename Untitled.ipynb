{
 "cells": [
  {
   "cell_type": "code",
   "execution_count": 1,
   "id": "76c986d5-b74f-4381-8475-4125c3113006",
   "metadata": {},
   "outputs": [
    {
     "name": "stdout",
     "output_type": "stream",
     "text": [
      "Collecting langchain-google-genai\n",
      "  Downloading langchain_google_genai-2.1.9-py3-none-any.whl.metadata (7.2 kB)\n",
      "Collecting filetype<2.0.0,>=1.2.0 (from langchain-google-genai)\n",
      "  Downloading filetype-1.2.0-py2.py3-none-any.whl.metadata (6.5 kB)\n",
      "Collecting google-ai-generativelanguage<0.7.0,>=0.6.18 (from langchain-google-genai)\n",
      "  Downloading google_ai_generativelanguage-0.6.18-py3-none-any.whl.metadata (9.8 kB)\n",
      "Collecting langchain-core<0.4.0,>=0.3.68 (from langchain-google-genai)\n",
      "  Downloading langchain_core-0.3.74-py3-none-any.whl.metadata (5.8 kB)\n",
      "Requirement already satisfied: pydantic<3,>=2 in /Users/ankusing/.pyenv/versions/3.11.0/lib/python3.11/site-packages (from langchain-google-genai) (2.11.4)\n",
      "Collecting google-api-core!=2.0.*,!=2.1.*,!=2.10.*,!=2.2.*,!=2.3.*,!=2.4.*,!=2.5.*,!=2.6.*,!=2.7.*,!=2.8.*,!=2.9.*,<3.0.0,>=1.34.1 (from google-api-core[grpc]!=2.0.*,!=2.1.*,!=2.10.*,!=2.2.*,!=2.3.*,!=2.4.*,!=2.5.*,!=2.6.*,!=2.7.*,!=2.8.*,!=2.9.*,<3.0.0,>=1.34.1->google-ai-generativelanguage<0.7.0,>=0.6.18->langchain-google-genai)\n",
      "  Downloading google_api_core-2.25.1-py3-none-any.whl.metadata (3.0 kB)\n",
      "Collecting google-auth!=2.24.0,!=2.25.0,<3.0.0,>=2.14.1 (from google-ai-generativelanguage<0.7.0,>=0.6.18->langchain-google-genai)\n",
      "  Downloading google_auth-2.40.3-py2.py3-none-any.whl.metadata (6.2 kB)\n",
      "Collecting proto-plus<2.0.0,>=1.22.3 (from google-ai-generativelanguage<0.7.0,>=0.6.18->langchain-google-genai)\n",
      "  Downloading proto_plus-1.26.1-py3-none-any.whl.metadata (2.2 kB)\n",
      "Collecting protobuf!=4.21.0,!=4.21.1,!=4.21.2,!=4.21.3,!=4.21.4,!=4.21.5,<7.0.0,>=3.20.2 (from google-ai-generativelanguage<0.7.0,>=0.6.18->langchain-google-genai)\n",
      "  Downloading protobuf-6.31.1-cp39-abi3-macosx_10_9_universal2.whl.metadata (593 bytes)\n",
      "Collecting googleapis-common-protos<2.0.0,>=1.56.2 (from google-api-core!=2.0.*,!=2.1.*,!=2.10.*,!=2.2.*,!=2.3.*,!=2.4.*,!=2.5.*,!=2.6.*,!=2.7.*,!=2.8.*,!=2.9.*,<3.0.0,>=1.34.1->google-api-core[grpc]!=2.0.*,!=2.1.*,!=2.10.*,!=2.2.*,!=2.3.*,!=2.4.*,!=2.5.*,!=2.6.*,!=2.7.*,!=2.8.*,!=2.9.*,<3.0.0,>=1.34.1->google-ai-generativelanguage<0.7.0,>=0.6.18->langchain-google-genai)\n",
      "  Downloading googleapis_common_protos-1.70.0-py3-none-any.whl.metadata (9.3 kB)\n",
      "Requirement already satisfied: requests<3.0.0,>=2.18.0 in /Users/ankusing/.pyenv/versions/3.11.0/lib/python3.11/site-packages (from google-api-core!=2.0.*,!=2.1.*,!=2.10.*,!=2.2.*,!=2.3.*,!=2.4.*,!=2.5.*,!=2.6.*,!=2.7.*,!=2.8.*,!=2.9.*,<3.0.0,>=1.34.1->google-api-core[grpc]!=2.0.*,!=2.1.*,!=2.10.*,!=2.2.*,!=2.3.*,!=2.4.*,!=2.5.*,!=2.6.*,!=2.7.*,!=2.8.*,!=2.9.*,<3.0.0,>=1.34.1->google-ai-generativelanguage<0.7.0,>=0.6.18->langchain-google-genai) (2.31.0)\n",
      "Collecting grpcio<2.0.0,>=1.33.2 (from google-api-core[grpc]!=2.0.*,!=2.1.*,!=2.10.*,!=2.2.*,!=2.3.*,!=2.4.*,!=2.5.*,!=2.6.*,!=2.7.*,!=2.8.*,!=2.9.*,<3.0.0,>=1.34.1->google-ai-generativelanguage<0.7.0,>=0.6.18->langchain-google-genai)\n",
      "  Downloading grpcio-1.74.0-cp311-cp311-macosx_11_0_universal2.whl.metadata (3.8 kB)\n",
      "Collecting grpcio-status<2.0.0,>=1.33.2 (from google-api-core[grpc]!=2.0.*,!=2.1.*,!=2.10.*,!=2.2.*,!=2.3.*,!=2.4.*,!=2.5.*,!=2.6.*,!=2.7.*,!=2.8.*,!=2.9.*,<3.0.0,>=1.34.1->google-ai-generativelanguage<0.7.0,>=0.6.18->langchain-google-genai)\n",
      "  Downloading grpcio_status-1.74.0-py3-none-any.whl.metadata (1.1 kB)\n",
      "Collecting cachetools<6.0,>=2.0.0 (from google-auth!=2.24.0,!=2.25.0,<3.0.0,>=2.14.1->google-ai-generativelanguage<0.7.0,>=0.6.18->langchain-google-genai)\n",
      "  Using cached cachetools-5.5.2-py3-none-any.whl.metadata (5.4 kB)\n",
      "Collecting pyasn1-modules>=0.2.1 (from google-auth!=2.24.0,!=2.25.0,<3.0.0,>=2.14.1->google-ai-generativelanguage<0.7.0,>=0.6.18->langchain-google-genai)\n",
      "  Downloading pyasn1_modules-0.4.2-py3-none-any.whl.metadata (3.5 kB)\n",
      "Collecting rsa<5,>=3.1.4 (from google-auth!=2.24.0,!=2.25.0,<3.0.0,>=2.14.1->google-ai-generativelanguage<0.7.0,>=0.6.18->langchain-google-genai)\n",
      "  Downloading rsa-4.9.1-py3-none-any.whl.metadata (5.6 kB)\n",
      "Collecting langsmith>=0.3.45 (from langchain-core<0.4.0,>=0.3.68->langchain-google-genai)\n",
      "  Downloading langsmith-0.4.13-py3-none-any.whl.metadata (14 kB)\n",
      "Requirement already satisfied: tenacity!=8.4.0,<10.0.0,>=8.1.0 in /Users/ankusing/.pyenv/versions/3.11.0/lib/python3.11/site-packages (from langchain-core<0.4.0,>=0.3.68->langchain-google-genai) (9.1.2)\n",
      "Requirement already satisfied: jsonpatch<2.0,>=1.33 in /Users/ankusing/.pyenv/versions/3.11.0/lib/python3.11/site-packages (from langchain-core<0.4.0,>=0.3.68->langchain-google-genai) (1.33)\n",
      "Requirement already satisfied: PyYAML>=5.3 in /Users/ankusing/.pyenv/versions/3.11.0/lib/python3.11/site-packages (from langchain-core<0.4.0,>=0.3.68->langchain-google-genai) (6.0.2)\n",
      "Requirement already satisfied: typing-extensions>=4.7 in /Users/ankusing/.pyenv/versions/3.11.0/lib/python3.11/site-packages (from langchain-core<0.4.0,>=0.3.68->langchain-google-genai) (4.13.2)\n",
      "Requirement already satisfied: packaging>=23.2 in /Users/ankusing/.pyenv/versions/3.11.0/lib/python3.11/site-packages (from langchain-core<0.4.0,>=0.3.68->langchain-google-genai) (23.2)\n",
      "Requirement already satisfied: jsonpointer>=1.9 in /Users/ankusing/.pyenv/versions/3.11.0/lib/python3.11/site-packages (from jsonpatch<2.0,>=1.33->langchain-core<0.4.0,>=0.3.68->langchain-google-genai) (3.0.0)\n",
      "Requirement already satisfied: annotated-types>=0.6.0 in /Users/ankusing/.pyenv/versions/3.11.0/lib/python3.11/site-packages (from pydantic<3,>=2->langchain-google-genai) (0.7.0)\n",
      "Requirement already satisfied: pydantic-core==2.33.2 in /Users/ankusing/.pyenv/versions/3.11.0/lib/python3.11/site-packages (from pydantic<3,>=2->langchain-google-genai) (2.33.2)\n",
      "Requirement already satisfied: typing-inspection>=0.4.0 in /Users/ankusing/.pyenv/versions/3.11.0/lib/python3.11/site-packages (from pydantic<3,>=2->langchain-google-genai) (0.4.0)\n",
      "Requirement already satisfied: charset-normalizer<4,>=2 in /Users/ankusing/.pyenv/versions/3.11.0/lib/python3.11/site-packages (from requests<3.0.0,>=2.18.0->google-api-core!=2.0.*,!=2.1.*,!=2.10.*,!=2.2.*,!=2.3.*,!=2.4.*,!=2.5.*,!=2.6.*,!=2.7.*,!=2.8.*,!=2.9.*,<3.0.0,>=1.34.1->google-api-core[grpc]!=2.0.*,!=2.1.*,!=2.10.*,!=2.2.*,!=2.3.*,!=2.4.*,!=2.5.*,!=2.6.*,!=2.7.*,!=2.8.*,!=2.9.*,<3.0.0,>=1.34.1->google-ai-generativelanguage<0.7.0,>=0.6.18->langchain-google-genai) (3.3.2)\n",
      "Requirement already satisfied: idna<4,>=2.5 in /Users/ankusing/.pyenv/versions/3.11.0/lib/python3.11/site-packages (from requests<3.0.0,>=2.18.0->google-api-core!=2.0.*,!=2.1.*,!=2.10.*,!=2.2.*,!=2.3.*,!=2.4.*,!=2.5.*,!=2.6.*,!=2.7.*,!=2.8.*,!=2.9.*,<3.0.0,>=1.34.1->google-api-core[grpc]!=2.0.*,!=2.1.*,!=2.10.*,!=2.2.*,!=2.3.*,!=2.4.*,!=2.5.*,!=2.6.*,!=2.7.*,!=2.8.*,!=2.9.*,<3.0.0,>=1.34.1->google-ai-generativelanguage<0.7.0,>=0.6.18->langchain-google-genai) (3.6)\n",
      "Requirement already satisfied: urllib3<3,>=1.21.1 in /Users/ankusing/.pyenv/versions/3.11.0/lib/python3.11/site-packages (from requests<3.0.0,>=2.18.0->google-api-core!=2.0.*,!=2.1.*,!=2.10.*,!=2.2.*,!=2.3.*,!=2.4.*,!=2.5.*,!=2.6.*,!=2.7.*,!=2.8.*,!=2.9.*,<3.0.0,>=1.34.1->google-api-core[grpc]!=2.0.*,!=2.1.*,!=2.10.*,!=2.2.*,!=2.3.*,!=2.4.*,!=2.5.*,!=2.6.*,!=2.7.*,!=2.8.*,!=2.9.*,<3.0.0,>=1.34.1->google-ai-generativelanguage<0.7.0,>=0.6.18->langchain-google-genai) (2.2.1)\n",
      "Requirement already satisfied: certifi>=2017.4.17 in /Users/ankusing/.pyenv/versions/3.11.0/lib/python3.11/site-packages (from requests<3.0.0,>=2.18.0->google-api-core!=2.0.*,!=2.1.*,!=2.10.*,!=2.2.*,!=2.3.*,!=2.4.*,!=2.5.*,!=2.6.*,!=2.7.*,!=2.8.*,!=2.9.*,<3.0.0,>=1.34.1->google-api-core[grpc]!=2.0.*,!=2.1.*,!=2.10.*,!=2.2.*,!=2.3.*,!=2.4.*,!=2.5.*,!=2.6.*,!=2.7.*,!=2.8.*,!=2.9.*,<3.0.0,>=1.34.1->google-ai-generativelanguage<0.7.0,>=0.6.18->langchain-google-genai) (2024.2.2)\n",
      "Collecting pyasn1>=0.1.3 (from rsa<5,>=3.1.4->google-auth!=2.24.0,!=2.25.0,<3.0.0,>=2.14.1->google-ai-generativelanguage<0.7.0,>=0.6.18->langchain-google-genai)\n",
      "  Downloading pyasn1-0.6.1-py3-none-any.whl.metadata (8.4 kB)\n",
      "Requirement already satisfied: httpx<1,>=0.23.0 in /Users/ankusing/.pyenv/versions/3.11.0/lib/python3.11/site-packages (from langsmith>=0.3.45->langchain-core<0.4.0,>=0.3.68->langchain-google-genai) (0.28.1)\n",
      "Requirement already satisfied: orjson>=3.9.14 in /Users/ankusing/.pyenv/versions/3.11.0/lib/python3.11/site-packages (from langsmith>=0.3.45->langchain-core<0.4.0,>=0.3.68->langchain-google-genai) (3.10.18)\n",
      "Requirement already satisfied: requests-toolbelt>=1.0.0 in /Users/ankusing/.pyenv/versions/3.11.0/lib/python3.11/site-packages (from langsmith>=0.3.45->langchain-core<0.4.0,>=0.3.68->langchain-google-genai) (1.0.0)\n",
      "Requirement already satisfied: zstandard>=0.23.0 in /Users/ankusing/.pyenv/versions/3.11.0/lib/python3.11/site-packages (from langsmith>=0.3.45->langchain-core<0.4.0,>=0.3.68->langchain-google-genai) (0.23.0)\n",
      "Requirement already satisfied: anyio in /Users/ankusing/.pyenv/versions/3.11.0/lib/python3.11/site-packages (from httpx<1,>=0.23.0->langsmith>=0.3.45->langchain-core<0.4.0,>=0.3.68->langchain-google-genai) (4.9.0)\n",
      "Requirement already satisfied: httpcore==1.* in /Users/ankusing/.pyenv/versions/3.11.0/lib/python3.11/site-packages (from httpx<1,>=0.23.0->langsmith>=0.3.45->langchain-core<0.4.0,>=0.3.68->langchain-google-genai) (1.0.9)\n",
      "Requirement already satisfied: h11>=0.16 in /Users/ankusing/.pyenv/versions/3.11.0/lib/python3.11/site-packages (from httpcore==1.*->httpx<1,>=0.23.0->langsmith>=0.3.45->langchain-core<0.4.0,>=0.3.68->langchain-google-genai) (0.16.0)\n",
      "Requirement already satisfied: sniffio>=1.1 in /Users/ankusing/.pyenv/versions/3.11.0/lib/python3.11/site-packages (from anyio->httpx<1,>=0.23.0->langsmith>=0.3.45->langchain-core<0.4.0,>=0.3.68->langchain-google-genai) (1.3.1)\n",
      "Downloading langchain_google_genai-2.1.9-py3-none-any.whl (49 kB)\n",
      "Downloading filetype-1.2.0-py2.py3-none-any.whl (19 kB)\n",
      "Downloading google_ai_generativelanguage-0.6.18-py3-none-any.whl (1.4 MB)\n",
      "\u001b[2K   \u001b[38;2;114;156;31m━━━━━━━━━━━━━━━━━━━━━━━━━━━━━━━━━━━━━━━━\u001b[0m \u001b[32m1.4/1.4 MB\u001b[0m \u001b[31m14.2 MB/s\u001b[0m eta \u001b[36m0:00:00\u001b[0m\n",
      "\u001b[?25hDownloading google_api_core-2.25.1-py3-none-any.whl (160 kB)\n",
      "Downloading google_auth-2.40.3-py2.py3-none-any.whl (216 kB)\n",
      "Downloading cachetools-5.5.2-py3-none-any.whl (10 kB)\n",
      "Downloading googleapis_common_protos-1.70.0-py3-none-any.whl (294 kB)\n",
      "Downloading grpcio-1.74.0-cp311-cp311-macosx_11_0_universal2.whl (11.0 MB)\n",
      "\u001b[2K   \u001b[38;2;114;156;31m━━━━━━━━━━━━━━━━━━━━━━━━━━━━━━━━━━━━━━━━\u001b[0m \u001b[32m11.0/11.0 MB\u001b[0m \u001b[31m12.0 MB/s\u001b[0m eta \u001b[36m0:00:00\u001b[0mMB/s\u001b[0m eta \u001b[36m0:00:01\u001b[0m:01\u001b[0m\n",
      "\u001b[?25hDownloading grpcio_status-1.74.0-py3-none-any.whl (14 kB)\n",
      "Downloading langchain_core-0.3.74-py3-none-any.whl (443 kB)\n",
      "Downloading proto_plus-1.26.1-py3-none-any.whl (50 kB)\n",
      "Downloading protobuf-6.31.1-cp39-abi3-macosx_10_9_universal2.whl (425 kB)\n",
      "Downloading rsa-4.9.1-py3-none-any.whl (34 kB)\n",
      "Downloading langsmith-0.4.13-py3-none-any.whl (372 kB)\n",
      "Downloading pyasn1-0.6.1-py3-none-any.whl (83 kB)\n",
      "Downloading pyasn1_modules-0.4.2-py3-none-any.whl (181 kB)\n",
      "Installing collected packages: filetype, pyasn1, protobuf, grpcio, cachetools, rsa, pyasn1-modules, proto-plus, googleapis-common-protos, langsmith, grpcio-status, google-auth, langchain-core, google-api-core, google-ai-generativelanguage, langchain-google-genai\n",
      "\u001b[2K  Attempting uninstall: langsmith━━━\u001b[0m\u001b[38;5;237m╺\u001b[0m\u001b[38;5;237m━━━━━━━━━━━━━━━━━━━━━━━━\u001b[0m \u001b[32m 6/16\u001b[0m [pyasn1-modules]\n",
      "\u001b[2K    Found existing installation: langsmith 0.3.42[0m\u001b[38;5;237m━━━━━━━━━━━━━━━━━━━━━━━━\u001b[0m \u001b[32m 6/16\u001b[0m [pyasn1-modules]\n",
      "\u001b[2K    Uninstalling langsmith-0.3.42:━━━━━━━━━\u001b[0m\u001b[38;2;249;38;114m╸\u001b[0m\u001b[38;5;237m━━━━━━━━━━━━━━━━━\u001b[0m \u001b[32m 9/16\u001b[0m [langsmith]\n",
      "\u001b[2K      Successfully uninstalled langsmith-0.3.42;2;249;38;114m╸\u001b[0m\u001b[38;5;237m━━━━━━━━━━━━━━━━━\u001b[0m \u001b[32m 9/16\u001b[0m [langsmith]\n",
      "\u001b[2K  Attempting uninstall: langchain-core━━━━━━━━━━\u001b[0m\u001b[38;2;249;38;114m╸\u001b[0m\u001b[38;5;237m━━━━━━━━━━━━\u001b[0m \u001b[32m11/16\u001b[0m [google-auth]\n",
      "\u001b[2K    Found existing installation: langchain-core 0.3.59;249;38;114m╸\u001b[0m\u001b[38;5;237m━━━━━━━━━━━━\u001b[0m \u001b[32m11/16\u001b[0m [google-auth]\n",
      "\u001b[2K    Uninstalling langchain-core-0.3.59:━━━━━\u001b[0m\u001b[38;2;249;38;114m╸\u001b[0m\u001b[38;5;237m━━━━━━━━━━━━\u001b[0m \u001b[32m11/16\u001b[0m [google-auth]\n",
      "\u001b[2K      Successfully uninstalled langchain-core-0.3.59;2;249;38;114m╸\u001b[0m\u001b[38;5;237m━━━━━━━━━━━━\u001b[0m \u001b[32m11/16\u001b[0m [google-auth]\n",
      "\u001b[2K   \u001b[38;2;114;156;31m━━━━━━━━━━━━━━━━━━━━━━━━━━━━━━━━━━━━━━━━\u001b[0m \u001b[32m16/16\u001b[0m [langchain-google-genai]6\u001b[0m [google-ai-generativelanguage]\n",
      "\u001b[1A\u001b[2K\u001b[31mERROR: pip's dependency resolver does not currently take into account all the packages that are installed. This behaviour is the source of the following dependency conflicts.\n",
      "langchain 0.3.25 requires langsmith<0.4,>=0.1.17, but you have langsmith 0.4.13 which is incompatible.\u001b[0m\u001b[31m\n",
      "\u001b[0mSuccessfully installed cachetools-5.5.2 filetype-1.2.0 google-ai-generativelanguage-0.6.18 google-api-core-2.25.1 google-auth-2.40.3 googleapis-common-protos-1.70.0 grpcio-1.74.0 grpcio-status-1.74.0 langchain-core-0.3.74 langchain-google-genai-2.1.9 langsmith-0.4.13 proto-plus-1.26.1 protobuf-6.31.1 pyasn1-0.6.1 pyasn1-modules-0.4.2 rsa-4.9.1\n",
      "\n",
      "\u001b[1m[\u001b[0m\u001b[34;49mnotice\u001b[0m\u001b[1;39;49m]\u001b[0m\u001b[39;49m A new release of pip is available: \u001b[0m\u001b[31;49m25.1.1\u001b[0m\u001b[39;49m -> \u001b[0m\u001b[32;49m25.2\u001b[0m\n",
      "\u001b[1m[\u001b[0m\u001b[34;49mnotice\u001b[0m\u001b[1;39;49m]\u001b[0m\u001b[39;49m To update, run: \u001b[0m\u001b[32;49mpip install --upgrade pip\u001b[0m\n",
      "Note: you may need to restart the kernel to use updated packages.\n"
     ]
    }
   ],
   "source": [
    "%pip install -U langchain-google-genai"
   ]
  },
  {
   "cell_type": "code",
   "execution_count": 2,
   "id": "b5df0fed-a706-435f-8dd3-a2f5a1ee277b",
   "metadata": {},
   "outputs": [
    {
     "name": "stdin",
     "output_type": "stream",
     "text": [
      "Enter your Google AI API key:  ········\n"
     ]
    }
   ],
   "source": [
    "import getpass\n",
    "import os\n",
    "\n",
    "if \"GOOGLE_API_KEY\" not in os.environ:\n",
    "    os.environ[\"GOOGLE_API_KEY\"] = getpass.getpass(\"Enter your Google AI API key: \")"
   ]
  },
  {
   "cell_type": "code",
   "execution_count": 3,
   "id": "97012157-c303-4128-9dfe-015e7f05e2f3",
   "metadata": {},
   "outputs": [],
   "source": [
    "from langchain_google_genai import ChatGoogleGenerativeAI\n",
    "\n",
    "llm = ChatGoogleGenerativeAI(\n",
    "    model=\"gemini-2.5-pro\",\n",
    "    temperature=0,\n",
    "    max_tokens=None,\n",
    "    timeout=None,\n",
    "    max_retries=2,\n",
    ")"
   ]
  },
  {
   "cell_type": "code",
   "execution_count": 4,
   "id": "505cdaee-f4e2-4ef9-a72f-c75f0bd4ddbc",
   "metadata": {},
   "outputs": [
    {
     "data": {
      "text/plain": [
       "AIMessage(content=\"J'adore programmer.\", additional_kwargs={}, response_metadata={'prompt_feedback': {'block_reason': 0, 'safety_ratings': []}, 'finish_reason': 'STOP', 'model_name': 'gemini-2.5-pro', 'safety_ratings': []}, id='run--1bbc4190-b141-41b4-988e-3dfa5fef9904-0', usage_metadata={'input_tokens': 21, 'output_tokens': 3278, 'total_tokens': 3299, 'input_token_details': {'cache_read': 0}, 'output_token_details': {'reasoning': 3273}})"
      ]
     },
     "execution_count": 4,
     "metadata": {},
     "output_type": "execute_result"
    }
   ],
   "source": [
    "messages = [\n",
    "    (\n",
    "        \"system\",\n",
    "        \"You are a helpful assistant that translates English to French. Translate the user sentence.\",\n",
    "    ),\n",
    "    (\"human\", \"I love programming.\"),\n",
    "]\n",
    "ai_msg = llm.invoke(messages)\n",
    "ai_msg"
   ]
  },
  {
   "cell_type": "code",
   "execution_count": 5,
   "id": "ab0d9803-0b36-4d4f-b1ff-bfec8ec93d74",
   "metadata": {},
   "outputs": [
    {
     "name": "stdout",
     "output_type": "stream",
     "text": [
      "J'adore programmer.\n"
     ]
    }
   ],
   "source": [
    "print(ai_msg.content)"
   ]
  },
  {
   "cell_type": "code",
   "execution_count": 13,
   "id": "c24c93e2-dbf8-427a-a867-e809b3d57c60",
   "metadata": {},
   "outputs": [
    {
     "data": {
      "text/plain": [
       "AIMessage(content=\"AI Generated Description\\n\\nUSER STORY:\\n\\nAs a ARO SRE\\nI want to migrate content from ARO Wiki to eng.ms\\nSo that we prevent broken links caused by page deletions and recreation in ADO Wiki\\n\\nACCEPTANCE CRITERIA:\\n\\n- Clean up and restructure existing Wiki content.\\n- Establish a consistent structure for content in eng.ms.\\n- Define a process for ongoing content management in eng.ms.\\n- Ensure all pull request (PR) checks, including ci & e2e, are passing.\\n- Document manual test steps and results.\\n- Manual test steps executed by someone other than the primary implementer or a test artifact such as a recording are attached.\\n- All PRs are merged.\\n- Ensure necessary actions to take during this change's release are communicated and documented.\\n- Troubleshooting Guides (TSGs), ADRs, or other documents are updated as necessary.\\n\\nCUSTOMER EXPERIENCE:\\n\\nBREADCRUMBS:\\n\\n- Similar work was done for all the TSGs linked to Monitors: https://issues.redhat.com/browse/ARO-3836\\n- Azure Docs for publishing a whole Wiki: https://eng.ms/docs/cloud-ai-platform/business-and-industry-copilot/bic-agent-cloud/bac-foundations/dataverse-epics-operations/dynamics-epics-operations-documentation/processes-book/how-to/how-to-publish-a-wiki-in-engms\\n- Azure Wiki Community Channel: https://aka.ms/supportwikiteam\\n\\nNOTES:\\n\\nN/A\", additional_kwargs={}, response_metadata={'prompt_feedback': {'block_reason': 0, 'safety_ratings': []}, 'finish_reason': 'STOP', 'model_name': 'gemini-2.5-pro', 'safety_ratings': []}, id='run--c4c3e81b-6de9-4577-a50b-895e547ec92a-0', usage_metadata={'input_tokens': 421, 'output_tokens': 1859, 'total_tokens': 2280, 'input_token_details': {'cache_read': 0}, 'output_token_details': {'reasoning': 1520}})"
      ]
     },
     "execution_count": 13,
     "metadata": {},
     "output_type": "execute_result"
    }
   ],
   "source": [
    "messages = [\n",
    "    (\n",
    "        \"system\", \"\"\"You are a helpful assistant that understands JIRA formatting in a description \n",
    "        and can convert it in terminal friendly format keeping the content as it is respecting the format without adding any extra text\"\"\",\n",
    "    ),\n",
    "    (\"human\", \"\"\"*+AI Generated Description+*\n",
    "+*USER STORY:*+\n",
    "\n",
    "*As a* ARO SRE  \n",
    "*I want to* migrate content from ARO Wiki to eng.ms  \n",
    "*So that* we prevent broken links caused by page deletions and recreation in ADO Wiki  \n",
    "\n",
    "+*ACCEPTANCE CRITERIA:*+\n",
    "\n",
    "- Clean up and restructure existing Wiki content.  \n",
    "- Establish a consistent structure for content in eng.ms.  \n",
    "- Define a process for ongoing content management in eng.ms.  \n",
    "- Ensure all pull request (PR) checks, including ci & e2e, are passing.  \n",
    "- Document manual test steps and results.  \n",
    "- Manual test steps executed by someone other than the primary implementer or a test artifact such as a recording are attached.  \n",
    "- All PRs are merged.  \n",
    "- Ensure necessary actions to take during this change's release are communicated and documented.  \n",
    "- Troubleshooting Guides (TSGs), ADRs, or other documents are updated as necessary.  \n",
    "\n",
    "*+CUSTOMER EXPERIENCE:+*  \n",
    "\n",
    "*+BREADCRUMBS:+*  \n",
    "\n",
    "- Similar work was done for all the TSGs linked to Monitors: https://issues.redhat.com/browse/ARO-3836  \n",
    "- Azure Docs for publishing a whole Wiki: https://eng.ms/docs/cloud-ai-platform/business-and-industry-copilot/bic-agent-cloud/bac-foundations/dataverse-epics-operations/dynamics-epics-operations-documentation/processes-book/how-to/how-to-publish-a-wiki-in-engms  \n",
    "- Azure Wiki Community Channel: https://aka.ms/supportwikiteam  \n",
    "\n",
    "*+NOTES:+*  \n",
    "\n",
    "N/A\"\"\"),\n",
    "]\n",
    "ai_msg = llm.invoke(messages)\n",
    "ai_msg"
   ]
  },
  {
   "cell_type": "code",
   "execution_count": 14,
   "id": "f243e4e6-d341-4db7-97db-e7ea507bb5bc",
   "metadata": {},
   "outputs": [
    {
     "name": "stdout",
     "output_type": "stream",
     "text": [
      "AI Generated Description\n",
      "\n",
      "USER STORY:\n",
      "\n",
      "As a ARO SRE\n",
      "I want to migrate content from ARO Wiki to eng.ms\n",
      "So that we prevent broken links caused by page deletions and recreation in ADO Wiki\n",
      "\n",
      "ACCEPTANCE CRITERIA:\n",
      "\n",
      "- Clean up and restructure existing Wiki content.\n",
      "- Establish a consistent structure for content in eng.ms.\n",
      "- Define a process for ongoing content management in eng.ms.\n",
      "- Ensure all pull request (PR) checks, including ci & e2e, are passing.\n",
      "- Document manual test steps and results.\n",
      "- Manual test steps executed by someone other than the primary implementer or a test artifact such as a recording are attached.\n",
      "- All PRs are merged.\n",
      "- Ensure necessary actions to take during this change's release are communicated and documented.\n",
      "- Troubleshooting Guides (TSGs), ADRs, or other documents are updated as necessary.\n",
      "\n",
      "CUSTOMER EXPERIENCE:\n",
      "\n",
      "BREADCRUMBS:\n",
      "\n",
      "- Similar work was done for all the TSGs linked to Monitors: https://issues.redhat.com/browse/ARO-3836\n",
      "- Azure Docs for publishing a whole Wiki: https://eng.ms/docs/cloud-ai-platform/business-and-industry-copilot/bic-agent-cloud/bac-foundations/dataverse-epics-operations/dynamics-epics-operations-documentation/processes-book/how-to/how-to-publish-a-wiki-in-engms\n",
      "- Azure Wiki Community Channel: https://aka.ms/supportwikiteam\n",
      "\n",
      "NOTES:\n",
      "\n",
      "N/A\n"
     ]
    }
   ],
   "source": [
    "print(ai_msg.content)"
   ]
  },
  {
   "cell_type": "code",
   "execution_count": null,
   "id": "74d3bc79-752d-44dc-b5a4-d05cb1f926d8",
   "metadata": {},
   "outputs": [],
   "source": []
  }
 ],
 "metadata": {
  "kernelspec": {
   "display_name": "Python 3 (ipykernel)",
   "language": "python",
   "name": "python3"
  },
  "language_info": {
   "codemirror_mode": {
    "name": "ipython",
    "version": 3
   },
   "file_extension": ".py",
   "mimetype": "text/x-python",
   "name": "python",
   "nbconvert_exporter": "python",
   "pygments_lexer": "ipython3",
   "version": "3.11.0"
  }
 },
 "nbformat": 4,
 "nbformat_minor": 5
}
